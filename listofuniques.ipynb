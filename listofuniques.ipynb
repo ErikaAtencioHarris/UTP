{
  "nbformat": 4,
  "nbformat_minor": 0,
  "metadata": {
    "colab": {
      "provenance": [],
      "include_colab_link": true
    },
    "kernelspec": {
      "name": "python3",
      "display_name": "Python 3"
    },
    "language_info": {
      "name": "python"
    }
  },
  "cells": [
    {
      "cell_type": "markdown",
      "metadata": {
        "id": "view-in-github",
        "colab_type": "text"
      },
      "source": [
        "<a href=\"https://colab.research.google.com/github/ErikaAtencioHarris/UTP/blob/main/listofuniques.ipynb\" target=\"_parent\"><img src=\"https://colab.research.google.com/assets/colab-badge.svg\" alt=\"Open In Colab\"/></a>"
      ]
    },
    {
      "cell_type": "code",
      "execution_count": null,
      "metadata": {
        "id": "ieBKIqj2mNlG"
      },
      "outputs": [],
      "source": [
        "# prompt: I have grocery list in a csv file, with different number of items on each line and with many sample of market baskets, I want to get a sorted list of unique items as an csv with3 column,  unique IDS, item and cost which will be assigned randomly\n",
        "\n",
        "import csv\n",
        "import random\n",
        "\n",
        "# Read the CSV file and create a list of lists\n",
        "with open('groceries.csv', 'r') as f:\n",
        "  reader = csv.reader(f)\n",
        "  grocery_list = list(reader)\n",
        "\n",
        "# Create a set of unique items\n",
        "unique_items = set()\n",
        "for row in grocery_list:\n",
        "  for item in row:\n",
        "    unique_items.add(item)\n",
        "\n",
        "# Create a list of unique items with IDs and random costs\n",
        "unique_items_list = []\n",
        "for i, item in enumerate(unique_items):\n",
        "  unique_items_list.append([i, item, random.randint(1, 100)])\n",
        "\n",
        "# Sort the list by ID\n",
        "unique_items_list.sort(key=lambda x: x[0])\n",
        "\n",
        "# Write the list to a CSV file\n",
        "with open('unique_items.csv', 'w', newline='') as f:\n",
        "  writer = csv.writer(f)\n",
        "  writer.writerow(['ID', 'Item', 'Cost'])\n",
        "  writer.writerows(unique_items_list)\n"
      ]
    },
    {
      "cell_type": "code",
      "source": [
        "# prompt: using a list of unique items replace names for IDS in  a transactions\n",
        "\n",
        "# Read the transactions CSV file and create a list of lists\n",
        "with open('groceries.csv', 'r') as f:\n",
        "  reader = csv.reader(f)\n",
        "  transactions_list = list(reader)\n",
        "\n",
        "# Replace item names with IDs in the transactions list\n",
        "for i, transaction in enumerate(transactions_list):\n",
        "  for j, item in enumerate(transaction):\n",
        "    for unique_item in unique_items_list:\n",
        "      if item == unique_item[1]:\n",
        "        transactions_list[i][j] = unique_item[0]\n",
        "\n",
        "# Write the updated transactions list to a CSV file\n",
        "with open('transactions_with_ids.csv', 'w', newline='') as f:\n",
        "  writer = csv.writer(f)\n",
        "  writer.writerow(['Transaction ID', 'Item ID'])\n",
        "  writer.writerows(transactions_list)\n"
      ],
      "metadata": {
        "id": "hptOfUy4prIF"
      },
      "execution_count": null,
      "outputs": []
    },
    {
      "cell_type": "code",
      "source": [
        "# prompt: I have a file with a list of transactions with items names these items have an ID assigned in another file,  I want every line of the line transformed into list of IDS and written in another file\n",
        "\n",
        "import csv\n",
        "\n",
        "# Read the unique items CSV file and create a dictionary of items and their IDs\n",
        "with open('unique_items_values.csv', 'r') as f:\n",
        "  reader = csv.reader(f)\n",
        "  # print({row[1]: int(row[0]) for row in reader})\n",
        "  item_id_dict = {row[1]: int(row[0]) for row in reader}\n",
        "\n",
        "# # Read the transactions CSV file and create a list of lists\n",
        "with open('groceries.csv', 'r') as f:\n",
        "  reader = csv.reader(f)\n",
        "  transactions_list = list(reader)\n",
        "  print(transactions_list)\n",
        "\n",
        "# # Replace item names with IDs in the transactions list\n",
        "for i, transaction in enumerate(transactions_list):\n",
        "  print(i)\n",
        "  for j, item in enumerate(transaction):\n",
        "    transactions_list[i][j] = item_id_dict[item]\n",
        "\n",
        "\n"
      ],
      "metadata": {
        "id": "u4OIsRFGm62V"
      },
      "execution_count": null,
      "outputs": []
    },
    {
      "cell_type": "code",
      "source": [
        "# prompt: write transactions_list to a file, with transaction ID and then a [list] of the ids\n",
        "\n",
        "import csv\n",
        "\n",
        "# Write the updated transactions list to a CSV file\n",
        "with open('transactions_with_ids.csv', 'w', newline='') as f:\n",
        "  writer = csv.writer(f)\n",
        "  writer.writerow(['Transaction ID', 'Item IDs'])\n",
        "  for i, row in enumerate(transactions_list):\n",
        "    writer.writerow([i+1, row])\n",
        "\n"
      ],
      "metadata": {
        "id": "B6imXgNItptf"
      },
      "execution_count": null,
      "outputs": []
    }
  ]
}